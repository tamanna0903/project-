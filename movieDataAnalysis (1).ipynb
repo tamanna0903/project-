{
 "cells": [
  {
   "cell_type": "code",
   "execution_count": 1,
   "id": "9e4f84d4-bb9a-408a-b0d5-da0589acbeac",
   "metadata": {},
   "outputs": [],
   "source": [
    "import numpy as np"
   ]
  },
  {
   "cell_type": "code",
   "execution_count": 1,
   "id": "0cf45152-aa16-46cd-b0dc-7bb6cda73d5d",
   "metadata": {},
   "outputs": [
    {
     "name": "stdout",
     "output_type": "stream",
     "text": [
      "2.2.3\n"
     ]
    }
   ],
   "source": [
    "import pandas as pd\n",
    "print(pd.__version__)"
   ]
  },
  {
   "cell_type": "code",
   "execution_count": 3,
   "id": "512d757b-4ba0-4120-a87b-17420334f237",
   "metadata": {},
   "outputs": [],
   "source": [
    "import matplotlib.pyplot as plt "
   ]
  },
  {
   "cell_type": "code",
   "execution_count": 4,
   "id": "a13e9262-358e-4521-846c-0a0d6089699c",
   "metadata": {},
   "outputs": [],
   "source": [
    "import seaborn as sns"
   ]
  },
  {
   "cell_type": "code",
   "execution_count": 5,
   "id": "3324f934-e604-483d-a2ae-6242f17b6e30",
   "metadata": {},
   "outputs": [],
   "source": [
    "df = pd.read_csv('mymoviedb.csv', lineterminator = '\\n')"
   ]
  },
  {
   "cell_type": "code",
   "execution_count": 6,
   "id": "dd84d2e2-3824-49b3-be10-9473ea570e9f",
   "metadata": {},
   "outputs": [
    {
     "data": {
      "text/html": [
       "<div>\n",
       "<style scoped>\n",
       "    .dataframe tbody tr th:only-of-type {\n",
       "        vertical-align: middle;\n",
       "    }\n",
       "\n",
       "    .dataframe tbody tr th {\n",
       "        vertical-align: top;\n",
       "    }\n",
       "\n",
       "    .dataframe thead th {\n",
       "        text-align: right;\n",
       "    }\n",
       "</style>\n",
       "<table border=\"1\" class=\"dataframe\">\n",
       "  <thead>\n",
       "    <tr style=\"text-align: right;\">\n",
       "      <th></th>\n",
       "      <th>Release_Date</th>\n",
       "      <th>Title</th>\n",
       "      <th>Overview</th>\n",
       "      <th>Popularity</th>\n",
       "      <th>Vote_Count</th>\n",
       "      <th>Vote_Average</th>\n",
       "      <th>Original_Language</th>\n",
       "      <th>Genre</th>\n",
       "      <th>Poster_Url</th>\n",
       "    </tr>\n",
       "  </thead>\n",
       "  <tbody>\n",
       "    <tr>\n",
       "      <th>0</th>\n",
       "      <td>2021-12-15</td>\n",
       "      <td>Spider-Man: No Way Home</td>\n",
       "      <td>Peter Parker is unmasked and no longer able to...</td>\n",
       "      <td>5083.954</td>\n",
       "      <td>8940</td>\n",
       "      <td>8.3</td>\n",
       "      <td>en</td>\n",
       "      <td>Action, Adventure, Science Fiction</td>\n",
       "      <td>https://image.tmdb.org/t/p/original/1g0dhYtq4i...</td>\n",
       "    </tr>\n",
       "    <tr>\n",
       "      <th>1</th>\n",
       "      <td>2022-03-01</td>\n",
       "      <td>The Batman</td>\n",
       "      <td>In his second year of fighting crime, Batman u...</td>\n",
       "      <td>3827.658</td>\n",
       "      <td>1151</td>\n",
       "      <td>8.1</td>\n",
       "      <td>en</td>\n",
       "      <td>Crime, Mystery, Thriller</td>\n",
       "      <td>https://image.tmdb.org/t/p/original/74xTEgt7R3...</td>\n",
       "    </tr>\n",
       "    <tr>\n",
       "      <th>2</th>\n",
       "      <td>2022-02-25</td>\n",
       "      <td>No Exit</td>\n",
       "      <td>Stranded at a rest stop in the mountains durin...</td>\n",
       "      <td>2618.087</td>\n",
       "      <td>122</td>\n",
       "      <td>6.3</td>\n",
       "      <td>en</td>\n",
       "      <td>Thriller</td>\n",
       "      <td>https://image.tmdb.org/t/p/original/vDHsLnOWKl...</td>\n",
       "    </tr>\n",
       "    <tr>\n",
       "      <th>3</th>\n",
       "      <td>2021-11-24</td>\n",
       "      <td>Encanto</td>\n",
       "      <td>The tale of an extraordinary family, the Madri...</td>\n",
       "      <td>2402.201</td>\n",
       "      <td>5076</td>\n",
       "      <td>7.7</td>\n",
       "      <td>en</td>\n",
       "      <td>Animation, Comedy, Family, Fantasy</td>\n",
       "      <td>https://image.tmdb.org/t/p/original/4j0PNHkMr5...</td>\n",
       "    </tr>\n",
       "    <tr>\n",
       "      <th>4</th>\n",
       "      <td>2021-12-22</td>\n",
       "      <td>The King's Man</td>\n",
       "      <td>As a collection of history's worst tyrants and...</td>\n",
       "      <td>1895.511</td>\n",
       "      <td>1793</td>\n",
       "      <td>7.0</td>\n",
       "      <td>en</td>\n",
       "      <td>Action, Adventure, Thriller, War</td>\n",
       "      <td>https://image.tmdb.org/t/p/original/aq4Pwv5Xeu...</td>\n",
       "    </tr>\n",
       "  </tbody>\n",
       "</table>\n",
       "</div>"
      ],
      "text/plain": [
       "  Release_Date                    Title  \\\n",
       "0   2021-12-15  Spider-Man: No Way Home   \n",
       "1   2022-03-01               The Batman   \n",
       "2   2022-02-25                  No Exit   \n",
       "3   2021-11-24                  Encanto   \n",
       "4   2021-12-22           The King's Man   \n",
       "\n",
       "                                            Overview  Popularity  Vote_Count  \\\n",
       "0  Peter Parker is unmasked and no longer able to...    5083.954        8940   \n",
       "1  In his second year of fighting crime, Batman u...    3827.658        1151   \n",
       "2  Stranded at a rest stop in the mountains durin...    2618.087         122   \n",
       "3  The tale of an extraordinary family, the Madri...    2402.201        5076   \n",
       "4  As a collection of history's worst tyrants and...    1895.511        1793   \n",
       "\n",
       "   Vote_Average Original_Language                               Genre  \\\n",
       "0           8.3                en  Action, Adventure, Science Fiction   \n",
       "1           8.1                en            Crime, Mystery, Thriller   \n",
       "2           6.3                en                            Thriller   \n",
       "3           7.7                en  Animation, Comedy, Family, Fantasy   \n",
       "4           7.0                en    Action, Adventure, Thriller, War   \n",
       "\n",
       "                                          Poster_Url  \n",
       "0  https://image.tmdb.org/t/p/original/1g0dhYtq4i...  \n",
       "1  https://image.tmdb.org/t/p/original/74xTEgt7R3...  \n",
       "2  https://image.tmdb.org/t/p/original/vDHsLnOWKl...  \n",
       "3  https://image.tmdb.org/t/p/original/4j0PNHkMr5...  \n",
       "4  https://image.tmdb.org/t/p/original/aq4Pwv5Xeu...  "
      ]
     },
     "execution_count": 6,
     "metadata": {},
     "output_type": "execute_result"
    }
   ],
   "source": [
    "df.head()"
   ]
  },
  {
   "cell_type": "code",
   "execution_count": 7,
   "id": "9a73d758-8ca1-48c1-a757-60e1b842e679",
   "metadata": {},
   "outputs": [
    {
     "name": "stdout",
     "output_type": "stream",
     "text": [
      "<class 'pandas.core.frame.DataFrame'>\n",
      "RangeIndex: 9827 entries, 0 to 9826\n",
      "Data columns (total 9 columns):\n",
      " #   Column             Non-Null Count  Dtype  \n",
      "---  ------             --------------  -----  \n",
      " 0   Release_Date       9827 non-null   object \n",
      " 1   Title              9827 non-null   object \n",
      " 2   Overview           9827 non-null   object \n",
      " 3   Popularity         9827 non-null   float64\n",
      " 4   Vote_Count         9827 non-null   int64  \n",
      " 5   Vote_Average       9827 non-null   float64\n",
      " 6   Original_Language  9827 non-null   object \n",
      " 7   Genre              9827 non-null   object \n",
      " 8   Poster_Url         9827 non-null   object \n",
      "dtypes: float64(2), int64(1), object(6)\n",
      "memory usage: 691.1+ KB\n"
     ]
    }
   ],
   "source": [
    "df.info()"
   ]
  },
  {
   "cell_type": "code",
   "execution_count": 8,
   "id": "b7b9327d-b645-4616-8f2e-680d1e74b0d5",
   "metadata": {},
   "outputs": [
    {
     "data": {
      "text/plain": [
       "0    Action, Adventure, Science Fiction\n",
       "1              Crime, Mystery, Thriller\n",
       "2                              Thriller\n",
       "3    Animation, Comedy, Family, Fantasy\n",
       "4      Action, Adventure, Thriller, War\n",
       "Name: Genre, dtype: object"
      ]
     },
     "execution_count": 8,
     "metadata": {},
     "output_type": "execute_result"
    }
   ],
   "source": [
    "df['Genre'].head()"
   ]
  },
  {
   "cell_type": "code",
   "execution_count": 9,
   "id": "91fe9832-dc9a-49c5-8c2c-e9cf6f3fa18d",
   "metadata": {},
   "outputs": [
    {
     "data": {
      "text/plain": [
       "0"
      ]
     },
     "execution_count": 9,
     "metadata": {},
     "output_type": "execute_result"
    }
   ],
   "source": [
    "df.duplicated().sum()"
   ]
  },
  {
   "cell_type": "code",
   "execution_count": 10,
   "id": "4582756e-a035-4010-bc39-8444f34758b8",
   "metadata": {},
   "outputs": [
    {
     "data": {
      "text/html": [
       "<div>\n",
       "<style scoped>\n",
       "    .dataframe tbody tr th:only-of-type {\n",
       "        vertical-align: middle;\n",
       "    }\n",
       "\n",
       "    .dataframe tbody tr th {\n",
       "        vertical-align: top;\n",
       "    }\n",
       "\n",
       "    .dataframe thead th {\n",
       "        text-align: right;\n",
       "    }\n",
       "</style>\n",
       "<table border=\"1\" class=\"dataframe\">\n",
       "  <thead>\n",
       "    <tr style=\"text-align: right;\">\n",
       "      <th></th>\n",
       "      <th>Popularity</th>\n",
       "      <th>Vote_Count</th>\n",
       "      <th>Vote_Average</th>\n",
       "    </tr>\n",
       "  </thead>\n",
       "  <tbody>\n",
       "    <tr>\n",
       "      <th>count</th>\n",
       "      <td>9827.000000</td>\n",
       "      <td>9827.000000</td>\n",
       "      <td>9827.000000</td>\n",
       "    </tr>\n",
       "    <tr>\n",
       "      <th>mean</th>\n",
       "      <td>40.326088</td>\n",
       "      <td>1392.805536</td>\n",
       "      <td>6.439534</td>\n",
       "    </tr>\n",
       "    <tr>\n",
       "      <th>std</th>\n",
       "      <td>108.873998</td>\n",
       "      <td>2611.206907</td>\n",
       "      <td>1.129759</td>\n",
       "    </tr>\n",
       "    <tr>\n",
       "      <th>min</th>\n",
       "      <td>13.354000</td>\n",
       "      <td>0.000000</td>\n",
       "      <td>0.000000</td>\n",
       "    </tr>\n",
       "    <tr>\n",
       "      <th>25%</th>\n",
       "      <td>16.128500</td>\n",
       "      <td>146.000000</td>\n",
       "      <td>5.900000</td>\n",
       "    </tr>\n",
       "    <tr>\n",
       "      <th>50%</th>\n",
       "      <td>21.199000</td>\n",
       "      <td>444.000000</td>\n",
       "      <td>6.500000</td>\n",
       "    </tr>\n",
       "    <tr>\n",
       "      <th>75%</th>\n",
       "      <td>35.191500</td>\n",
       "      <td>1376.000000</td>\n",
       "      <td>7.100000</td>\n",
       "    </tr>\n",
       "    <tr>\n",
       "      <th>max</th>\n",
       "      <td>5083.954000</td>\n",
       "      <td>31077.000000</td>\n",
       "      <td>10.000000</td>\n",
       "    </tr>\n",
       "  </tbody>\n",
       "</table>\n",
       "</div>"
      ],
      "text/plain": [
       "        Popularity    Vote_Count  Vote_Average\n",
       "count  9827.000000   9827.000000   9827.000000\n",
       "mean     40.326088   1392.805536      6.439534\n",
       "std     108.873998   2611.206907      1.129759\n",
       "min      13.354000      0.000000      0.000000\n",
       "25%      16.128500    146.000000      5.900000\n",
       "50%      21.199000    444.000000      6.500000\n",
       "75%      35.191500   1376.000000      7.100000\n",
       "max    5083.954000  31077.000000     10.000000"
      ]
     },
     "execution_count": 10,
     "metadata": {},
     "output_type": "execute_result"
    }
   ],
   "source": [
    "df.describe()"
   ]
  },
  {
   "cell_type": "code",
   "execution_count": 11,
   "id": "40853fab-792a-4264-84ff-6125fc104d25",
   "metadata": {},
   "outputs": [],
   "source": [
    "#exploration summary\n",
    "\n",
    "#we've a dataframe consisting of 9827 rows and 9 columns.\n",
    "#our dataset looks a bit tidy with no NaNs nor duplicated value\n",
    "#Release_Date column needs to be created into date-time formate and to extract only the year value.\n",
    "#Overview, Original_Language and Poste URL wouldn't be so useful during analysis, so we'll drop them.\n",
    "#there is noticable outliers in Popularity column\n",
    "#Vote_Average better be categorised for proper analysis\n",
    "#Genre column has comma seprated values and white spaces that needs to be handle and casted into category"
   ]
  },
  {
   "cell_type": "code",
   "execution_count": 12,
   "id": "00fd0953-beea-4eaf-a12d-60557bc77451",
   "metadata": {},
   "outputs": [
    {
     "data": {
      "text/html": [
       "<div>\n",
       "<style scoped>\n",
       "    .dataframe tbody tr th:only-of-type {\n",
       "        vertical-align: middle;\n",
       "    }\n",
       "\n",
       "    .dataframe tbody tr th {\n",
       "        vertical-align: top;\n",
       "    }\n",
       "\n",
       "    .dataframe thead th {\n",
       "        text-align: right;\n",
       "    }\n",
       "</style>\n",
       "<table border=\"1\" class=\"dataframe\">\n",
       "  <thead>\n",
       "    <tr style=\"text-align: right;\">\n",
       "      <th></th>\n",
       "      <th>Release_Date</th>\n",
       "      <th>Title</th>\n",
       "      <th>Overview</th>\n",
       "      <th>Popularity</th>\n",
       "      <th>Vote_Count</th>\n",
       "      <th>Vote_Average</th>\n",
       "      <th>Original_Language</th>\n",
       "      <th>Genre</th>\n",
       "      <th>Poster_Url</th>\n",
       "    </tr>\n",
       "  </thead>\n",
       "  <tbody>\n",
       "    <tr>\n",
       "      <th>0</th>\n",
       "      <td>2021-12-15</td>\n",
       "      <td>Spider-Man: No Way Home</td>\n",
       "      <td>Peter Parker is unmasked and no longer able to...</td>\n",
       "      <td>5083.954</td>\n",
       "      <td>8940</td>\n",
       "      <td>8.3</td>\n",
       "      <td>en</td>\n",
       "      <td>Action, Adventure, Science Fiction</td>\n",
       "      <td>https://image.tmdb.org/t/p/original/1g0dhYtq4i...</td>\n",
       "    </tr>\n",
       "    <tr>\n",
       "      <th>1</th>\n",
       "      <td>2022-03-01</td>\n",
       "      <td>The Batman</td>\n",
       "      <td>In his second year of fighting crime, Batman u...</td>\n",
       "      <td>3827.658</td>\n",
       "      <td>1151</td>\n",
       "      <td>8.1</td>\n",
       "      <td>en</td>\n",
       "      <td>Crime, Mystery, Thriller</td>\n",
       "      <td>https://image.tmdb.org/t/p/original/74xTEgt7R3...</td>\n",
       "    </tr>\n",
       "    <tr>\n",
       "      <th>2</th>\n",
       "      <td>2022-02-25</td>\n",
       "      <td>No Exit</td>\n",
       "      <td>Stranded at a rest stop in the mountains durin...</td>\n",
       "      <td>2618.087</td>\n",
       "      <td>122</td>\n",
       "      <td>6.3</td>\n",
       "      <td>en</td>\n",
       "      <td>Thriller</td>\n",
       "      <td>https://image.tmdb.org/t/p/original/vDHsLnOWKl...</td>\n",
       "    </tr>\n",
       "    <tr>\n",
       "      <th>3</th>\n",
       "      <td>2021-11-24</td>\n",
       "      <td>Encanto</td>\n",
       "      <td>The tale of an extraordinary family, the Madri...</td>\n",
       "      <td>2402.201</td>\n",
       "      <td>5076</td>\n",
       "      <td>7.7</td>\n",
       "      <td>en</td>\n",
       "      <td>Animation, Comedy, Family, Fantasy</td>\n",
       "      <td>https://image.tmdb.org/t/p/original/4j0PNHkMr5...</td>\n",
       "    </tr>\n",
       "    <tr>\n",
       "      <th>4</th>\n",
       "      <td>2021-12-22</td>\n",
       "      <td>The King's Man</td>\n",
       "      <td>As a collection of history's worst tyrants and...</td>\n",
       "      <td>1895.511</td>\n",
       "      <td>1793</td>\n",
       "      <td>7.0</td>\n",
       "      <td>en</td>\n",
       "      <td>Action, Adventure, Thriller, War</td>\n",
       "      <td>https://image.tmdb.org/t/p/original/aq4Pwv5Xeu...</td>\n",
       "    </tr>\n",
       "  </tbody>\n",
       "</table>\n",
       "</div>"
      ],
      "text/plain": [
       "  Release_Date                    Title  \\\n",
       "0   2021-12-15  Spider-Man: No Way Home   \n",
       "1   2022-03-01               The Batman   \n",
       "2   2022-02-25                  No Exit   \n",
       "3   2021-11-24                  Encanto   \n",
       "4   2021-12-22           The King's Man   \n",
       "\n",
       "                                            Overview  Popularity  Vote_Count  \\\n",
       "0  Peter Parker is unmasked and no longer able to...    5083.954        8940   \n",
       "1  In his second year of fighting crime, Batman u...    3827.658        1151   \n",
       "2  Stranded at a rest stop in the mountains durin...    2618.087         122   \n",
       "3  The tale of an extraordinary family, the Madri...    2402.201        5076   \n",
       "4  As a collection of history's worst tyrants and...    1895.511        1793   \n",
       "\n",
       "   Vote_Average Original_Language                               Genre  \\\n",
       "0           8.3                en  Action, Adventure, Science Fiction   \n",
       "1           8.1                en            Crime, Mystery, Thriller   \n",
       "2           6.3                en                            Thriller   \n",
       "3           7.7                en  Animation, Comedy, Family, Fantasy   \n",
       "4           7.0                en    Action, Adventure, Thriller, War   \n",
       "\n",
       "                                          Poster_Url  \n",
       "0  https://image.tmdb.org/t/p/original/1g0dhYtq4i...  \n",
       "1  https://image.tmdb.org/t/p/original/74xTEgt7R3...  \n",
       "2  https://image.tmdb.org/t/p/original/vDHsLnOWKl...  \n",
       "3  https://image.tmdb.org/t/p/original/4j0PNHkMr5...  \n",
       "4  https://image.tmdb.org/t/p/original/aq4Pwv5Xeu...  "
      ]
     },
     "execution_count": 12,
     "metadata": {},
     "output_type": "execute_result"
    }
   ],
   "source": [
    "df.head()"
   ]
  },
  {
   "cell_type": "code",
   "execution_count": 13,
   "id": "a88ff091-ea4a-4789-9957-c8ab19035242",
   "metadata": {},
   "outputs": [
    {
     "name": "stdout",
     "output_type": "stream",
     "text": [
      "datetime64[ns]\n"
     ]
    }
   ],
   "source": [
    "df['Release_Date'] = pd.to_datetime(df['Release_Date'])\n",
    "\n",
    "print(df['Release_Date'].dtype)"
   ]
  },
  {
   "cell_type": "code",
   "execution_count": 14,
   "id": "ce1cfe08-5df1-45e8-8adc-6f432579f768",
   "metadata": {},
   "outputs": [
    {
     "data": {
      "text/plain": [
       "dtype('int32')"
      ]
     },
     "execution_count": 14,
     "metadata": {},
     "output_type": "execute_result"
    }
   ],
   "source": [
    "df['Release_Date'] = df['Release_Date'].dt.year\n",
    "\n",
    "df['Release_Date'].dtype"
   ]
  },
  {
   "cell_type": "code",
   "execution_count": 15,
   "id": "e941f4be-311f-4919-98ed-1447a131a472",
   "metadata": {},
   "outputs": [
    {
     "data": {
      "text/html": [
       "<div>\n",
       "<style scoped>\n",
       "    .dataframe tbody tr th:only-of-type {\n",
       "        vertical-align: middle;\n",
       "    }\n",
       "\n",
       "    .dataframe tbody tr th {\n",
       "        vertical-align: top;\n",
       "    }\n",
       "\n",
       "    .dataframe thead th {\n",
       "        text-align: right;\n",
       "    }\n",
       "</style>\n",
       "<table border=\"1\" class=\"dataframe\">\n",
       "  <thead>\n",
       "    <tr style=\"text-align: right;\">\n",
       "      <th></th>\n",
       "      <th>Release_Date</th>\n",
       "      <th>Title</th>\n",
       "      <th>Overview</th>\n",
       "      <th>Popularity</th>\n",
       "      <th>Vote_Count</th>\n",
       "      <th>Vote_Average</th>\n",
       "      <th>Original_Language</th>\n",
       "      <th>Genre</th>\n",
       "      <th>Poster_Url</th>\n",
       "    </tr>\n",
       "  </thead>\n",
       "  <tbody>\n",
       "    <tr>\n",
       "      <th>0</th>\n",
       "      <td>2021</td>\n",
       "      <td>Spider-Man: No Way Home</td>\n",
       "      <td>Peter Parker is unmasked and no longer able to...</td>\n",
       "      <td>5083.954</td>\n",
       "      <td>8940</td>\n",
       "      <td>8.3</td>\n",
       "      <td>en</td>\n",
       "      <td>Action, Adventure, Science Fiction</td>\n",
       "      <td>https://image.tmdb.org/t/p/original/1g0dhYtq4i...</td>\n",
       "    </tr>\n",
       "    <tr>\n",
       "      <th>1</th>\n",
       "      <td>2022</td>\n",
       "      <td>The Batman</td>\n",
       "      <td>In his second year of fighting crime, Batman u...</td>\n",
       "      <td>3827.658</td>\n",
       "      <td>1151</td>\n",
       "      <td>8.1</td>\n",
       "      <td>en</td>\n",
       "      <td>Crime, Mystery, Thriller</td>\n",
       "      <td>https://image.tmdb.org/t/p/original/74xTEgt7R3...</td>\n",
       "    </tr>\n",
       "    <tr>\n",
       "      <th>2</th>\n",
       "      <td>2022</td>\n",
       "      <td>No Exit</td>\n",
       "      <td>Stranded at a rest stop in the mountains durin...</td>\n",
       "      <td>2618.087</td>\n",
       "      <td>122</td>\n",
       "      <td>6.3</td>\n",
       "      <td>en</td>\n",
       "      <td>Thriller</td>\n",
       "      <td>https://image.tmdb.org/t/p/original/vDHsLnOWKl...</td>\n",
       "    </tr>\n",
       "    <tr>\n",
       "      <th>3</th>\n",
       "      <td>2021</td>\n",
       "      <td>Encanto</td>\n",
       "      <td>The tale of an extraordinary family, the Madri...</td>\n",
       "      <td>2402.201</td>\n",
       "      <td>5076</td>\n",
       "      <td>7.7</td>\n",
       "      <td>en</td>\n",
       "      <td>Animation, Comedy, Family, Fantasy</td>\n",
       "      <td>https://image.tmdb.org/t/p/original/4j0PNHkMr5...</td>\n",
       "    </tr>\n",
       "    <tr>\n",
       "      <th>4</th>\n",
       "      <td>2021</td>\n",
       "      <td>The King's Man</td>\n",
       "      <td>As a collection of history's worst tyrants and...</td>\n",
       "      <td>1895.511</td>\n",
       "      <td>1793</td>\n",
       "      <td>7.0</td>\n",
       "      <td>en</td>\n",
       "      <td>Action, Adventure, Thriller, War</td>\n",
       "      <td>https://image.tmdb.org/t/p/original/aq4Pwv5Xeu...</td>\n",
       "    </tr>\n",
       "  </tbody>\n",
       "</table>\n",
       "</div>"
      ],
      "text/plain": [
       "   Release_Date                    Title  \\\n",
       "0          2021  Spider-Man: No Way Home   \n",
       "1          2022               The Batman   \n",
       "2          2022                  No Exit   \n",
       "3          2021                  Encanto   \n",
       "4          2021           The King's Man   \n",
       "\n",
       "                                            Overview  Popularity  Vote_Count  \\\n",
       "0  Peter Parker is unmasked and no longer able to...    5083.954        8940   \n",
       "1  In his second year of fighting crime, Batman u...    3827.658        1151   \n",
       "2  Stranded at a rest stop in the mountains durin...    2618.087         122   \n",
       "3  The tale of an extraordinary family, the Madri...    2402.201        5076   \n",
       "4  As a collection of history's worst tyrants and...    1895.511        1793   \n",
       "\n",
       "   Vote_Average Original_Language                               Genre  \\\n",
       "0           8.3                en  Action, Adventure, Science Fiction   \n",
       "1           8.1                en            Crime, Mystery, Thriller   \n",
       "2           6.3                en                            Thriller   \n",
       "3           7.7                en  Animation, Comedy, Family, Fantasy   \n",
       "4           7.0                en    Action, Adventure, Thriller, War   \n",
       "\n",
       "                                          Poster_Url  \n",
       "0  https://image.tmdb.org/t/p/original/1g0dhYtq4i...  \n",
       "1  https://image.tmdb.org/t/p/original/74xTEgt7R3...  \n",
       "2  https://image.tmdb.org/t/p/original/vDHsLnOWKl...  \n",
       "3  https://image.tmdb.org/t/p/original/4j0PNHkMr5...  \n",
       "4  https://image.tmdb.org/t/p/original/aq4Pwv5Xeu...  "
      ]
     },
     "execution_count": 15,
     "metadata": {},
     "output_type": "execute_result"
    }
   ],
   "source": [
    "df.head()"
   ]
  },
  {
   "cell_type": "code",
   "execution_count": 16,
   "id": "417edecf-6ed4-4332-8a44-c7e0a68260f8",
   "metadata": {},
   "outputs": [],
   "source": [
    "#Dropping the columns"
   ]
  },
  {
   "cell_type": "code",
   "execution_count": 17,
   "id": "71f6a2b6-5d57-4d5f-9636-5f3dfbfa9737",
   "metadata": {},
   "outputs": [],
   "source": [
    "cols = ['Overview', 'Original_Language', 'Poster_Url']"
   ]
  },
  {
   "cell_type": "code",
   "execution_count": 18,
   "id": "1442bb0e-722b-4185-9ef1-ea13f581de5e",
   "metadata": {},
   "outputs": [
    {
     "data": {
      "text/plain": [
       "Index(['Release_Date', 'Title', 'Popularity', 'Vote_Count', 'Vote_Average',\n",
       "       'Genre'],\n",
       "      dtype='object')"
      ]
     },
     "execution_count": 18,
     "metadata": {},
     "output_type": "execute_result"
    }
   ],
   "source": [
    "df.drop(cols, axis = 1, inplace = True)\n",
    "df.columns"
   ]
  },
  {
   "cell_type": "code",
   "execution_count": 19,
   "id": "ea69a0cc-5d4d-4934-876f-ef27591536ad",
   "metadata": {},
   "outputs": [
    {
     "data": {
      "text/html": [
       "<div>\n",
       "<style scoped>\n",
       "    .dataframe tbody tr th:only-of-type {\n",
       "        vertical-align: middle;\n",
       "    }\n",
       "\n",
       "    .dataframe tbody tr th {\n",
       "        vertical-align: top;\n",
       "    }\n",
       "\n",
       "    .dataframe thead th {\n",
       "        text-align: right;\n",
       "    }\n",
       "</style>\n",
       "<table border=\"1\" class=\"dataframe\">\n",
       "  <thead>\n",
       "    <tr style=\"text-align: right;\">\n",
       "      <th></th>\n",
       "      <th>Release_Date</th>\n",
       "      <th>Title</th>\n",
       "      <th>Popularity</th>\n",
       "      <th>Vote_Count</th>\n",
       "      <th>Vote_Average</th>\n",
       "      <th>Genre</th>\n",
       "    </tr>\n",
       "  </thead>\n",
       "  <tbody>\n",
       "    <tr>\n",
       "      <th>0</th>\n",
       "      <td>2021</td>\n",
       "      <td>Spider-Man: No Way Home</td>\n",
       "      <td>5083.954</td>\n",
       "      <td>8940</td>\n",
       "      <td>8.3</td>\n",
       "      <td>Action, Adventure, Science Fiction</td>\n",
       "    </tr>\n",
       "    <tr>\n",
       "      <th>1</th>\n",
       "      <td>2022</td>\n",
       "      <td>The Batman</td>\n",
       "      <td>3827.658</td>\n",
       "      <td>1151</td>\n",
       "      <td>8.1</td>\n",
       "      <td>Crime, Mystery, Thriller</td>\n",
       "    </tr>\n",
       "    <tr>\n",
       "      <th>2</th>\n",
       "      <td>2022</td>\n",
       "      <td>No Exit</td>\n",
       "      <td>2618.087</td>\n",
       "      <td>122</td>\n",
       "      <td>6.3</td>\n",
       "      <td>Thriller</td>\n",
       "    </tr>\n",
       "    <tr>\n",
       "      <th>3</th>\n",
       "      <td>2021</td>\n",
       "      <td>Encanto</td>\n",
       "      <td>2402.201</td>\n",
       "      <td>5076</td>\n",
       "      <td>7.7</td>\n",
       "      <td>Animation, Comedy, Family, Fantasy</td>\n",
       "    </tr>\n",
       "    <tr>\n",
       "      <th>4</th>\n",
       "      <td>2021</td>\n",
       "      <td>The King's Man</td>\n",
       "      <td>1895.511</td>\n",
       "      <td>1793</td>\n",
       "      <td>7.0</td>\n",
       "      <td>Action, Adventure, Thriller, War</td>\n",
       "    </tr>\n",
       "  </tbody>\n",
       "</table>\n",
       "</div>"
      ],
      "text/plain": [
       "   Release_Date                    Title  Popularity  Vote_Count  \\\n",
       "0          2021  Spider-Man: No Way Home    5083.954        8940   \n",
       "1          2022               The Batman    3827.658        1151   \n",
       "2          2022                  No Exit    2618.087         122   \n",
       "3          2021                  Encanto    2402.201        5076   \n",
       "4          2021           The King's Man    1895.511        1793   \n",
       "\n",
       "   Vote_Average                               Genre  \n",
       "0           8.3  Action, Adventure, Science Fiction  \n",
       "1           8.1            Crime, Mystery, Thriller  \n",
       "2           6.3                            Thriller  \n",
       "3           7.7  Animation, Comedy, Family, Fantasy  \n",
       "4           7.0    Action, Adventure, Thriller, War  "
      ]
     },
     "execution_count": 19,
     "metadata": {},
     "output_type": "execute_result"
    }
   ],
   "source": [
    "df.head()"
   ]
  },
  {
   "cell_type": "code",
   "execution_count": 20,
   "id": "d86697f4-03d7-4614-81fd-fe4a25ed8b90",
   "metadata": {},
   "outputs": [],
   "source": [
    "#categorizing `Vote_Average` column\n",
    "\n",
    "#we would cut Vote_Average value and make 4 categories: Popular, Average, Below average and Non-Polpular"
   ]
  },
  {
   "cell_type": "code",
   "execution_count": 21,
   "id": "40ff7810-f01d-4446-b225-d7f6c9761d73",
   "metadata": {},
   "outputs": [],
   "source": [
    "def categorized_col(df, col, labels):\n",
    "    edges = [df[col].describe()['min'],\n",
    "             df[col].describe()['25%'],\n",
    "             df[col].describe()['50%'],\n",
    "             df[col].describe()['75%'],\n",
    "             df[col].describe()['max']]\n",
    "    df[col] = pd.cut(df[col], edges, labels = labels, duplicates = 'drop')\n",
    "    return df"
   ]
  },
  {
   "cell_type": "code",
   "execution_count": 22,
   "id": "73299ebb-37d8-48f7-90a6-28c6e7ebc17d",
   "metadata": {},
   "outputs": [
    {
     "data": {
      "text/plain": [
       "['popular', 'below_average', 'average', 'not_popular', NaN]\n",
       "Categories (4, object): ['not_popular' < 'below_average' < 'average' < 'popular']"
      ]
     },
     "execution_count": 22,
     "metadata": {},
     "output_type": "execute_result"
    }
   ],
   "source": [
    "labels = ['not_popular', 'below_average', 'average', 'popular']\n",
    "\n",
    "categorized_col(df, 'Vote_Average', labels)\n",
    "df['Vote_Average'].unique()"
   ]
  },
  {
   "cell_type": "code",
   "execution_count": 23,
   "id": "488afae9-1562-4d7f-9f65-c57cffcfd707",
   "metadata": {},
   "outputs": [
    {
     "data": {
      "text/html": [
       "<div>\n",
       "<style scoped>\n",
       "    .dataframe tbody tr th:only-of-type {\n",
       "        vertical-align: middle;\n",
       "    }\n",
       "\n",
       "    .dataframe tbody tr th {\n",
       "        vertical-align: top;\n",
       "    }\n",
       "\n",
       "    .dataframe thead th {\n",
       "        text-align: right;\n",
       "    }\n",
       "</style>\n",
       "<table border=\"1\" class=\"dataframe\">\n",
       "  <thead>\n",
       "    <tr style=\"text-align: right;\">\n",
       "      <th></th>\n",
       "      <th>Release_Date</th>\n",
       "      <th>Title</th>\n",
       "      <th>Popularity</th>\n",
       "      <th>Vote_Count</th>\n",
       "      <th>Vote_Average</th>\n",
       "      <th>Genre</th>\n",
       "    </tr>\n",
       "  </thead>\n",
       "  <tbody>\n",
       "    <tr>\n",
       "      <th>0</th>\n",
       "      <td>2021</td>\n",
       "      <td>Spider-Man: No Way Home</td>\n",
       "      <td>5083.954</td>\n",
       "      <td>8940</td>\n",
       "      <td>popular</td>\n",
       "      <td>Action, Adventure, Science Fiction</td>\n",
       "    </tr>\n",
       "    <tr>\n",
       "      <th>1</th>\n",
       "      <td>2022</td>\n",
       "      <td>The Batman</td>\n",
       "      <td>3827.658</td>\n",
       "      <td>1151</td>\n",
       "      <td>popular</td>\n",
       "      <td>Crime, Mystery, Thriller</td>\n",
       "    </tr>\n",
       "    <tr>\n",
       "      <th>2</th>\n",
       "      <td>2022</td>\n",
       "      <td>No Exit</td>\n",
       "      <td>2618.087</td>\n",
       "      <td>122</td>\n",
       "      <td>below_average</td>\n",
       "      <td>Thriller</td>\n",
       "    </tr>\n",
       "    <tr>\n",
       "      <th>3</th>\n",
       "      <td>2021</td>\n",
       "      <td>Encanto</td>\n",
       "      <td>2402.201</td>\n",
       "      <td>5076</td>\n",
       "      <td>popular</td>\n",
       "      <td>Animation, Comedy, Family, Fantasy</td>\n",
       "    </tr>\n",
       "    <tr>\n",
       "      <th>4</th>\n",
       "      <td>2021</td>\n",
       "      <td>The King's Man</td>\n",
       "      <td>1895.511</td>\n",
       "      <td>1793</td>\n",
       "      <td>average</td>\n",
       "      <td>Action, Adventure, Thriller, War</td>\n",
       "    </tr>\n",
       "    <tr>\n",
       "      <th>5</th>\n",
       "      <td>2022</td>\n",
       "      <td>The Commando</td>\n",
       "      <td>1750.484</td>\n",
       "      <td>33</td>\n",
       "      <td>average</td>\n",
       "      <td>Action, Crime, Thriller</td>\n",
       "    </tr>\n",
       "    <tr>\n",
       "      <th>6</th>\n",
       "      <td>2022</td>\n",
       "      <td>Scream</td>\n",
       "      <td>1675.161</td>\n",
       "      <td>821</td>\n",
       "      <td>average</td>\n",
       "      <td>Horror, Mystery, Thriller</td>\n",
       "    </tr>\n",
       "    <tr>\n",
       "      <th>7</th>\n",
       "      <td>2022</td>\n",
       "      <td>Kimi</td>\n",
       "      <td>1601.782</td>\n",
       "      <td>206</td>\n",
       "      <td>below_average</td>\n",
       "      <td>Thriller</td>\n",
       "    </tr>\n",
       "    <tr>\n",
       "      <th>8</th>\n",
       "      <td>2022</td>\n",
       "      <td>Fistful of Vengeance</td>\n",
       "      <td>1594.013</td>\n",
       "      <td>114</td>\n",
       "      <td>not_popular</td>\n",
       "      <td>Action, Crime, Fantasy</td>\n",
       "    </tr>\n",
       "    <tr>\n",
       "      <th>9</th>\n",
       "      <td>2021</td>\n",
       "      <td>Eternals</td>\n",
       "      <td>1537.406</td>\n",
       "      <td>4726</td>\n",
       "      <td>popular</td>\n",
       "      <td>Science Fiction</td>\n",
       "    </tr>\n",
       "  </tbody>\n",
       "</table>\n",
       "</div>"
      ],
      "text/plain": [
       "   Release_Date                    Title  Popularity  Vote_Count  \\\n",
       "0          2021  Spider-Man: No Way Home    5083.954        8940   \n",
       "1          2022               The Batman    3827.658        1151   \n",
       "2          2022                  No Exit    2618.087         122   \n",
       "3          2021                  Encanto    2402.201        5076   \n",
       "4          2021           The King's Man    1895.511        1793   \n",
       "5          2022             The Commando    1750.484          33   \n",
       "6          2022                   Scream    1675.161         821   \n",
       "7          2022                     Kimi    1601.782         206   \n",
       "8          2022     Fistful of Vengeance    1594.013         114   \n",
       "9          2021                 Eternals    1537.406        4726   \n",
       "\n",
       "    Vote_Average                               Genre  \n",
       "0        popular  Action, Adventure, Science Fiction  \n",
       "1        popular            Crime, Mystery, Thriller  \n",
       "2  below_average                            Thriller  \n",
       "3        popular  Animation, Comedy, Family, Fantasy  \n",
       "4        average    Action, Adventure, Thriller, War  \n",
       "5        average             Action, Crime, Thriller  \n",
       "6        average           Horror, Mystery, Thriller  \n",
       "7  below_average                            Thriller  \n",
       "8    not_popular              Action, Crime, Fantasy  \n",
       "9        popular                     Science Fiction  "
      ]
     },
     "execution_count": 23,
     "metadata": {},
     "output_type": "execute_result"
    }
   ],
   "source": [
    "df.head(10)"
   ]
  },
  {
   "cell_type": "code",
   "execution_count": 24,
   "id": "787803d9-bb9d-44bd-9ad7-1c9333153594",
   "metadata": {},
   "outputs": [
    {
     "data": {
      "text/plain": [
       "Vote_Average\n",
       "not_popular      2467\n",
       "popular          2450\n",
       "average          2412\n",
       "below_average    2398\n",
       "Name: count, dtype: int64"
      ]
     },
     "execution_count": 24,
     "metadata": {},
     "output_type": "execute_result"
    }
   ],
   "source": [
    "df['Vote_Average'].value_counts()"
   ]
  },
  {
   "cell_type": "code",
   "execution_count": 25,
   "id": "275660f3-9bc0-44ed-bee8-ff1fd3e134cb",
   "metadata": {},
   "outputs": [
    {
     "data": {
      "text/plain": [
       "Release_Date    0\n",
       "Title           0\n",
       "Popularity      0\n",
       "Vote_Count      0\n",
       "Vote_Average    0\n",
       "Genre           0\n",
       "dtype: int64"
      ]
     },
     "execution_count": 25,
     "metadata": {},
     "output_type": "execute_result"
    }
   ],
   "source": [
    "df.dropna(inplace = True)\n",
    "\n",
    "df.isna().sum()"
   ]
  },
  {
   "cell_type": "code",
   "execution_count": 26,
   "id": "0123ff4d-6215-4e3e-934f-0680ad858096",
   "metadata": {},
   "outputs": [
    {
     "data": {
      "text/html": [
       "<div>\n",
       "<style scoped>\n",
       "    .dataframe tbody tr th:only-of-type {\n",
       "        vertical-align: middle;\n",
       "    }\n",
       "\n",
       "    .dataframe tbody tr th {\n",
       "        vertical-align: top;\n",
       "    }\n",
       "\n",
       "    .dataframe thead th {\n",
       "        text-align: right;\n",
       "    }\n",
       "</style>\n",
       "<table border=\"1\" class=\"dataframe\">\n",
       "  <thead>\n",
       "    <tr style=\"text-align: right;\">\n",
       "      <th></th>\n",
       "      <th>Release_Date</th>\n",
       "      <th>Title</th>\n",
       "      <th>Popularity</th>\n",
       "      <th>Vote_Count</th>\n",
       "      <th>Vote_Average</th>\n",
       "      <th>Genre</th>\n",
       "    </tr>\n",
       "  </thead>\n",
       "  <tbody>\n",
       "    <tr>\n",
       "      <th>0</th>\n",
       "      <td>2021</td>\n",
       "      <td>Spider-Man: No Way Home</td>\n",
       "      <td>5083.954</td>\n",
       "      <td>8940</td>\n",
       "      <td>popular</td>\n",
       "      <td>Action, Adventure, Science Fiction</td>\n",
       "    </tr>\n",
       "    <tr>\n",
       "      <th>1</th>\n",
       "      <td>2022</td>\n",
       "      <td>The Batman</td>\n",
       "      <td>3827.658</td>\n",
       "      <td>1151</td>\n",
       "      <td>popular</td>\n",
       "      <td>Crime, Mystery, Thriller</td>\n",
       "    </tr>\n",
       "    <tr>\n",
       "      <th>2</th>\n",
       "      <td>2022</td>\n",
       "      <td>No Exit</td>\n",
       "      <td>2618.087</td>\n",
       "      <td>122</td>\n",
       "      <td>below_average</td>\n",
       "      <td>Thriller</td>\n",
       "    </tr>\n",
       "    <tr>\n",
       "      <th>3</th>\n",
       "      <td>2021</td>\n",
       "      <td>Encanto</td>\n",
       "      <td>2402.201</td>\n",
       "      <td>5076</td>\n",
       "      <td>popular</td>\n",
       "      <td>Animation, Comedy, Family, Fantasy</td>\n",
       "    </tr>\n",
       "    <tr>\n",
       "      <th>4</th>\n",
       "      <td>2021</td>\n",
       "      <td>The King's Man</td>\n",
       "      <td>1895.511</td>\n",
       "      <td>1793</td>\n",
       "      <td>average</td>\n",
       "      <td>Action, Adventure, Thriller, War</td>\n",
       "    </tr>\n",
       "    <tr>\n",
       "      <th>5</th>\n",
       "      <td>2022</td>\n",
       "      <td>The Commando</td>\n",
       "      <td>1750.484</td>\n",
       "      <td>33</td>\n",
       "      <td>average</td>\n",
       "      <td>Action, Crime, Thriller</td>\n",
       "    </tr>\n",
       "    <tr>\n",
       "      <th>6</th>\n",
       "      <td>2022</td>\n",
       "      <td>Scream</td>\n",
       "      <td>1675.161</td>\n",
       "      <td>821</td>\n",
       "      <td>average</td>\n",
       "      <td>Horror, Mystery, Thriller</td>\n",
       "    </tr>\n",
       "    <tr>\n",
       "      <th>7</th>\n",
       "      <td>2022</td>\n",
       "      <td>Kimi</td>\n",
       "      <td>1601.782</td>\n",
       "      <td>206</td>\n",
       "      <td>below_average</td>\n",
       "      <td>Thriller</td>\n",
       "    </tr>\n",
       "    <tr>\n",
       "      <th>8</th>\n",
       "      <td>2022</td>\n",
       "      <td>Fistful of Vengeance</td>\n",
       "      <td>1594.013</td>\n",
       "      <td>114</td>\n",
       "      <td>not_popular</td>\n",
       "      <td>Action, Crime, Fantasy</td>\n",
       "    </tr>\n",
       "    <tr>\n",
       "      <th>9</th>\n",
       "      <td>2021</td>\n",
       "      <td>Eternals</td>\n",
       "      <td>1537.406</td>\n",
       "      <td>4726</td>\n",
       "      <td>popular</td>\n",
       "      <td>Science Fiction</td>\n",
       "    </tr>\n",
       "  </tbody>\n",
       "</table>\n",
       "</div>"
      ],
      "text/plain": [
       "   Release_Date                    Title  Popularity  Vote_Count  \\\n",
       "0          2021  Spider-Man: No Way Home    5083.954        8940   \n",
       "1          2022               The Batman    3827.658        1151   \n",
       "2          2022                  No Exit    2618.087         122   \n",
       "3          2021                  Encanto    2402.201        5076   \n",
       "4          2021           The King's Man    1895.511        1793   \n",
       "5          2022             The Commando    1750.484          33   \n",
       "6          2022                   Scream    1675.161         821   \n",
       "7          2022                     Kimi    1601.782         206   \n",
       "8          2022     Fistful of Vengeance    1594.013         114   \n",
       "9          2021                 Eternals    1537.406        4726   \n",
       "\n",
       "    Vote_Average                               Genre  \n",
       "0        popular  Action, Adventure, Science Fiction  \n",
       "1        popular            Crime, Mystery, Thriller  \n",
       "2  below_average                            Thriller  \n",
       "3        popular  Animation, Comedy, Family, Fantasy  \n",
       "4        average    Action, Adventure, Thriller, War  \n",
       "5        average             Action, Crime, Thriller  \n",
       "6        average           Horror, Mystery, Thriller  \n",
       "7  below_average                            Thriller  \n",
       "8    not_popular              Action, Crime, Fantasy  \n",
       "9        popular                     Science Fiction  "
      ]
     },
     "execution_count": 26,
     "metadata": {},
     "output_type": "execute_result"
    }
   ],
   "source": [
    "df.head(10)"
   ]
  },
  {
   "cell_type": "markdown",
   "id": "05e1a6e6-2e25-43f6-84b9-1cd80d8a47e4",
   "metadata": {},
   "source": [
    "we would splid the genres into a list and then explore our dataframe to have onle one genre per row for each movie\n"
   ]
  },
  {
   "cell_type": "code",
   "execution_count": 27,
   "id": "238a7cf6-a6e5-43ee-97ff-f95830b55d94",
   "metadata": {},
   "outputs": [
    {
     "data": {
      "text/html": [
       "<div>\n",
       "<style scoped>\n",
       "    .dataframe tbody tr th:only-of-type {\n",
       "        vertical-align: middle;\n",
       "    }\n",
       "\n",
       "    .dataframe tbody tr th {\n",
       "        vertical-align: top;\n",
       "    }\n",
       "\n",
       "    .dataframe thead th {\n",
       "        text-align: right;\n",
       "    }\n",
       "</style>\n",
       "<table border=\"1\" class=\"dataframe\">\n",
       "  <thead>\n",
       "    <tr style=\"text-align: right;\">\n",
       "      <th></th>\n",
       "      <th>Release_Date</th>\n",
       "      <th>Title</th>\n",
       "      <th>Popularity</th>\n",
       "      <th>Vote_Count</th>\n",
       "      <th>Vote_Average</th>\n",
       "      <th>Genre</th>\n",
       "    </tr>\n",
       "  </thead>\n",
       "  <tbody>\n",
       "    <tr>\n",
       "      <th>0</th>\n",
       "      <td>2021</td>\n",
       "      <td>Spider-Man: No Way Home</td>\n",
       "      <td>5083.954</td>\n",
       "      <td>8940</td>\n",
       "      <td>popular</td>\n",
       "      <td>Action</td>\n",
       "    </tr>\n",
       "    <tr>\n",
       "      <th>1</th>\n",
       "      <td>2021</td>\n",
       "      <td>Spider-Man: No Way Home</td>\n",
       "      <td>5083.954</td>\n",
       "      <td>8940</td>\n",
       "      <td>popular</td>\n",
       "      <td>Adventure</td>\n",
       "    </tr>\n",
       "    <tr>\n",
       "      <th>2</th>\n",
       "      <td>2021</td>\n",
       "      <td>Spider-Man: No Way Home</td>\n",
       "      <td>5083.954</td>\n",
       "      <td>8940</td>\n",
       "      <td>popular</td>\n",
       "      <td>Science Fiction</td>\n",
       "    </tr>\n",
       "    <tr>\n",
       "      <th>3</th>\n",
       "      <td>2022</td>\n",
       "      <td>The Batman</td>\n",
       "      <td>3827.658</td>\n",
       "      <td>1151</td>\n",
       "      <td>popular</td>\n",
       "      <td>Crime</td>\n",
       "    </tr>\n",
       "    <tr>\n",
       "      <th>4</th>\n",
       "      <td>2022</td>\n",
       "      <td>The Batman</td>\n",
       "      <td>3827.658</td>\n",
       "      <td>1151</td>\n",
       "      <td>popular</td>\n",
       "      <td>Mystery</td>\n",
       "    </tr>\n",
       "  </tbody>\n",
       "</table>\n",
       "</div>"
      ],
      "text/plain": [
       "   Release_Date                    Title  Popularity  Vote_Count Vote_Average  \\\n",
       "0          2021  Spider-Man: No Way Home    5083.954        8940      popular   \n",
       "1          2021  Spider-Man: No Way Home    5083.954        8940      popular   \n",
       "2          2021  Spider-Man: No Way Home    5083.954        8940      popular   \n",
       "3          2022               The Batman    3827.658        1151      popular   \n",
       "4          2022               The Batman    3827.658        1151      popular   \n",
       "\n",
       "             Genre  \n",
       "0           Action  \n",
       "1        Adventure  \n",
       "2  Science Fiction  \n",
       "3            Crime  \n",
       "4          Mystery  "
      ]
     },
     "execution_count": 27,
     "metadata": {},
     "output_type": "execute_result"
    }
   ],
   "source": [
    "df['Genre'] = df['Genre'].str.split(', ')\n",
    "df = df.explode('Genre').reset_index(drop=True)\n",
    "df.head()\n"
   ]
  },
  {
   "cell_type": "code",
   "execution_count": 28,
   "id": "e20bb4f3-8c7e-4670-ae75-6db251dfe3a4",
   "metadata": {},
   "outputs": [
    {
     "data": {
      "text/plain": [
       "CategoricalDtype(categories=['Action', 'Adventure', 'Animation', 'Comedy', 'Crime',\n",
       "                  'Documentary', 'Drama', 'Family', 'Fantasy', 'History',\n",
       "                  'Horror', 'Music', 'Mystery', 'Romance', 'Science Fiction',\n",
       "                  'TV Movie', 'Thriller', 'War', 'Western'],\n",
       ", ordered=False, categories_dtype=object)"
      ]
     },
     "execution_count": 28,
     "metadata": {},
     "output_type": "execute_result"
    }
   ],
   "source": [
    "#casting column into category\n",
    "\n",
    "df['Genre'] = df['Genre'].astype('category')\n",
    "df['Genre'].dtypes"
   ]
  },
  {
   "cell_type": "code",
   "execution_count": 31,
   "id": "0a040720-287b-4fed-b3de-eb862ac074b0",
   "metadata": {},
   "outputs": [
    {
     "name": "stdout",
     "output_type": "stream",
     "text": [
      "<class 'pandas.core.frame.DataFrame'>\n",
      "RangeIndex: 25552 entries, 0 to 25551\n",
      "Data columns (total 6 columns):\n",
      " #   Column        Non-Null Count  Dtype   \n",
      "---  ------        --------------  -----   \n",
      " 0   Release_Date  25552 non-null  int32   \n",
      " 1   Title         25552 non-null  object  \n",
      " 2   Popularity    25552 non-null  float64 \n",
      " 3   Vote_Count    25552 non-null  int64   \n",
      " 4   Vote_Average  25552 non-null  category\n",
      " 5   Genre         25552 non-null  category\n",
      "dtypes: category(2), float64(1), int32(1), int64(1), object(1)\n",
      "memory usage: 749.6+ KB\n"
     ]
    }
   ],
   "source": [
    "df.info()\n",
    "\n",
    "#it shows that 9827 rows are fregmented into 25552 rows because of the categories formes in the Genre column"
   ]
  },
  {
   "cell_type": "code",
   "execution_count": 32,
   "id": "6f111f51-d549-4323-ba58-e866e51c5556",
   "metadata": {},
   "outputs": [
    {
     "data": {
      "text/plain": [
       "Release_Date     100\n",
       "Title           9415\n",
       "Popularity      8088\n",
       "Vote_Count      3265\n",
       "Vote_Average       4\n",
       "Genre             19\n",
       "dtype: int64"
      ]
     },
     "execution_count": 32,
     "metadata": {},
     "output_type": "execute_result"
    }
   ],
   "source": [
    "df.nunique()"
   ]
  },
  {
   "cell_type": "code",
   "execution_count": 36,
   "id": "20690439-1b68-4ec4-b90f-443d4188e140",
   "metadata": {},
   "outputs": [
    {
     "data": {
      "text/html": [
       "<div>\n",
       "<style scoped>\n",
       "    .dataframe tbody tr th:only-of-type {\n",
       "        vertical-align: middle;\n",
       "    }\n",
       "\n",
       "    .dataframe tbody tr th {\n",
       "        vertical-align: top;\n",
       "    }\n",
       "\n",
       "    .dataframe thead th {\n",
       "        text-align: right;\n",
       "    }\n",
       "</style>\n",
       "<table border=\"1\" class=\"dataframe\">\n",
       "  <thead>\n",
       "    <tr style=\"text-align: right;\">\n",
       "      <th></th>\n",
       "      <th>Release_Date</th>\n",
       "      <th>Title</th>\n",
       "      <th>Popularity</th>\n",
       "      <th>Vote_Count</th>\n",
       "      <th>Vote_Average</th>\n",
       "      <th>Genre</th>\n",
       "    </tr>\n",
       "  </thead>\n",
       "  <tbody>\n",
       "    <tr>\n",
       "      <th>0</th>\n",
       "      <td>2021</td>\n",
       "      <td>Spider-Man: No Way Home</td>\n",
       "      <td>5083.954</td>\n",
       "      <td>8940</td>\n",
       "      <td>popular</td>\n",
       "      <td>Action</td>\n",
       "    </tr>\n",
       "    <tr>\n",
       "      <th>1</th>\n",
       "      <td>2021</td>\n",
       "      <td>Spider-Man: No Way Home</td>\n",
       "      <td>5083.954</td>\n",
       "      <td>8940</td>\n",
       "      <td>popular</td>\n",
       "      <td>Adventure</td>\n",
       "    </tr>\n",
       "    <tr>\n",
       "      <th>2</th>\n",
       "      <td>2021</td>\n",
       "      <td>Spider-Man: No Way Home</td>\n",
       "      <td>5083.954</td>\n",
       "      <td>8940</td>\n",
       "      <td>popular</td>\n",
       "      <td>Science Fiction</td>\n",
       "    </tr>\n",
       "    <tr>\n",
       "      <th>3</th>\n",
       "      <td>2022</td>\n",
       "      <td>The Batman</td>\n",
       "      <td>3827.658</td>\n",
       "      <td>1151</td>\n",
       "      <td>popular</td>\n",
       "      <td>Crime</td>\n",
       "    </tr>\n",
       "    <tr>\n",
       "      <th>4</th>\n",
       "      <td>2022</td>\n",
       "      <td>The Batman</td>\n",
       "      <td>3827.658</td>\n",
       "      <td>1151</td>\n",
       "      <td>popular</td>\n",
       "      <td>Mystery</td>\n",
       "    </tr>\n",
       "  </tbody>\n",
       "</table>\n",
       "</div>"
      ],
      "text/plain": [
       "   Release_Date                    Title  Popularity  Vote_Count Vote_Average  \\\n",
       "0          2021  Spider-Man: No Way Home    5083.954        8940      popular   \n",
       "1          2021  Spider-Man: No Way Home    5083.954        8940      popular   \n",
       "2          2021  Spider-Man: No Way Home    5083.954        8940      popular   \n",
       "3          2022               The Batman    3827.658        1151      popular   \n",
       "4          2022               The Batman    3827.658        1151      popular   \n",
       "\n",
       "             Genre  \n",
       "0           Action  \n",
       "1        Adventure  \n",
       "2  Science Fiction  \n",
       "3            Crime  \n",
       "4          Mystery  "
      ]
     },
     "execution_count": 36,
     "metadata": {},
     "output_type": "execute_result"
    }
   ],
   "source": [
    "df.head()"
   ]
  },
  {
   "cell_type": "markdown",
   "id": "37c12881-97ce-4ff4-9f6a-dbdcc1a8af42",
   "metadata": {},
   "source": [
    "DATA VISUALIZATION"
   ]
  },
  {
   "cell_type": "code",
   "execution_count": 37,
   "id": "33bad2f0-99d4-4789-bd7d-e866e88c742c",
   "metadata": {},
   "outputs": [],
   "source": [
    "sns.set_style('whitegrid')"
   ]
  },
  {
   "cell_type": "markdown",
   "id": "c511b902-1baa-4eff-88bc-1c555af57e7b",
   "metadata": {},
   "source": [
    "WHAT IS THE MOST FREQUENT GENRE OF MOVIE RELEASED ON NETFLIX"
   ]
  },
  {
   "cell_type": "code",
   "execution_count": 38,
   "id": "91ca6122-4361-4486-a828-9b4d4ec32db2",
   "metadata": {},
   "outputs": [
    {
     "data": {
      "text/plain": [
       "count     25552\n",
       "unique       19\n",
       "top       Drama\n",
       "freq       3715\n",
       "Name: Genre, dtype: object"
      ]
     },
     "execution_count": 38,
     "metadata": {},
     "output_type": "execute_result"
    }
   ],
   "source": [
    "df['Genre'].describe()"
   ]
  },
  {
   "cell_type": "code",
   "execution_count": 39,
   "id": "c1f1ac5e-a49b-4b4f-9d77-5a494a7d94b7",
   "metadata": {},
   "outputs": [
    {
     "name": "stderr",
     "output_type": "stream",
     "text": [
      "C:\\Users\\Tamanna\\anaconda3\\Lib\\site-packages\\seaborn\\categorical.py:641: FutureWarning: The default of observed=False is deprecated and will be changed to True in a future version of pandas. Pass observed=False to retain current behavior or observed=True to adopt the future default and silence this warning.\n",
      "  grouped_vals = vals.groupby(grouper)\n",
      "C:\\Users\\Tamanna\\anaconda3\\Lib\\site-packages\\seaborn\\categorical.py:641: FutureWarning: The default of observed=False is deprecated and will be changed to True in a future version of pandas. Pass observed=False to retain current behavior or observed=True to adopt the future default and silence this warning.\n",
      "  grouped_vals = vals.groupby(grouper)\n"
     ]
    },
    {
     "data": {
      "image/png": "[encoded data removed]",
      "text/plain": [
       "<Figure size 500x500 with 1 Axes>"
      ]
     },
     "metadata": {},
     "output_type": "display_data"
    }
   ],
   "source": [
    "sns.catplot(y = 'Genre', data = df, kind = 'count', \n",
    "            order = df['Genre'].value_counts().index,\n",
    "            color = '#4287f5')\n",
    "\n",
    "plt.title(\"Genre column distribution\")\n",
    "plt.show()\n",
    "        "
   ]
  },
  {
   "cell_type": "markdown",
   "id": "7e9961af-9bf3-40a6-ac92-fb633bf330c5",
   "metadata": {},
   "source": [
    "#which has the highest vote in Vote_Average"
   ]
  },
  {
   "cell_type": "code",
   "execution_count": 40,
   "id": "9b1f6696-6992-47b8-bf55-03125898168a",
   "metadata": {},
   "outputs": [
    {
     "name": "stderr",
     "output_type": "stream",
     "text": [
      "C:\\Users\\Tamanna\\anaconda3\\Lib\\site-packages\\seaborn\\categorical.py:641: FutureWarning: The default of observed=False is deprecated and will be changed to True in a future version of pandas. Pass observed=False to retain current behavior or observed=True to adopt the future default and silence this warning.\n",
      "  grouped_vals = vals.groupby(grouper)\n",
      "C:\\Users\\Tamanna\\anaconda3\\Lib\\site-packages\\seaborn\\categorical.py:641: FutureWarning: The default of observed=False is deprecated and will be changed to True in a future version of pandas. Pass observed=False to retain current behavior or observed=True to adopt the future default and silence this warning.\n",
      "  grouped_vals = vals.groupby(grouper)\n"
     ]
    },
    {
     "data": {
      "image/png": "[encoded data removed]",
      "text/plain": [
       "<Figure size 500x500 with 1 Axes>"
      ]
     },
     "metadata": {},
     "output_type": "display_data"
    }
   ],
   "source": [
    "sns.catplot(y = 'Vote_Average', data = df, kind = 'count',\n",
    "            order = df['Vote_Average'].value_counts().index,\n",
    "            color = '#4287f5')\n",
    "\n",
    "plt.title(\"VOTE distribution\")\n",
    "plt.show()\n",
    "        "
   ]
  },
  {
   "cell_type": "markdown",
   "id": "6bbb99f7-dc7f-41e4-9d28-918582a98913",
   "metadata": {},
   "source": [
    "WHAT MOVIE GOT THE HIGHEST POPULARITY? WHAT IS ITS GENRE"
   ]
  },
  {
   "cell_type": "code",
   "execution_count": 41,
   "id": "a0bb65d2-d8ad-4de9-9098-d8da7654defd",
   "metadata": {},
   "outputs": [
    {
     "data": {
      "text/html": [
       "<div>\n",
       "<style scoped>\n",
       "    .dataframe tbody tr th:only-of-type {\n",
       "        vertical-align: middle;\n",
       "    }\n",
       "\n",
       "    .dataframe tbody tr th {\n",
       "        vertical-align: top;\n",
       "    }\n",
       "\n",
       "    .dataframe thead th {\n",
       "        text-align: right;\n",
       "    }\n",
       "</style>\n",
       "<table border=\"1\" class=\"dataframe\">\n",
       "  <thead>\n",
       "    <tr style=\"text-align: right;\">\n",
       "      <th></th>\n",
       "      <th>Release_Date</th>\n",
       "      <th>Title</th>\n",
       "      <th>Popularity</th>\n",
       "      <th>Vote_Count</th>\n",
       "      <th>Vote_Average</th>\n",
       "      <th>Genre</th>\n",
       "    </tr>\n",
       "  </thead>\n",
       "  <tbody>\n",
       "    <tr>\n",
       "      <th>0</th>\n",
       "      <td>2021</td>\n",
       "      <td>Spider-Man: No Way Home</td>\n",
       "      <td>5083.954</td>\n",
       "      <td>8940</td>\n",
       "      <td>popular</td>\n",
       "      <td>Action</td>\n",
       "    </tr>\n",
       "    <tr>\n",
       "      <th>1</th>\n",
       "      <td>2021</td>\n",
       "      <td>Spider-Man: No Way Home</td>\n",
       "      <td>5083.954</td>\n",
       "      <td>8940</td>\n",
       "      <td>popular</td>\n",
       "      <td>Adventure</td>\n",
       "    </tr>\n",
       "    <tr>\n",
       "      <th>2</th>\n",
       "      <td>2021</td>\n",
       "      <td>Spider-Man: No Way Home</td>\n",
       "      <td>5083.954</td>\n",
       "      <td>8940</td>\n",
       "      <td>popular</td>\n",
       "      <td>Science Fiction</td>\n",
       "    </tr>\n",
       "  </tbody>\n",
       "</table>\n",
       "</div>"
      ],
      "text/plain": [
       "   Release_Date                    Title  Popularity  Vote_Count Vote_Average  \\\n",
       "0          2021  Spider-Man: No Way Home    5083.954        8940      popular   \n",
       "1          2021  Spider-Man: No Way Home    5083.954        8940      popular   \n",
       "2          2021  Spider-Man: No Way Home    5083.954        8940      popular   \n",
       "\n",
       "             Genre  \n",
       "0           Action  \n",
       "1        Adventure  \n",
       "2  Science Fiction  "
      ]
     },
     "execution_count": 41,
     "metadata": {},
     "output_type": "execute_result"
    }
   ],
   "source": [
    "df[df['Popularity'] == df['Popularity'].max()]"
   ]
  },
  {
   "cell_type": "markdown",
   "id": "937be291-5986-4b14-86bb-f0b72b343ae5",
   "metadata": {},
   "source": [
    "WHAT MOVIE GOT THE LEAST POPULARITY? WHAT IS ITS GENRE"
   ]
  },
  {
   "cell_type": "code",
   "execution_count": 42,
   "id": "f8eb1d88-a5b2-4cec-a21f-dceb7b8ae5a9",
   "metadata": {},
   "outputs": [
    {
     "data": {
      "text/html": [
       "<div>\n",
       "<style scoped>\n",
       "    .dataframe tbody tr th:only-of-type {\n",
       "        vertical-align: middle;\n",
       "    }\n",
       "\n",
       "    .dataframe tbody tr th {\n",
       "        vertical-align: top;\n",
       "    }\n",
       "\n",
       "    .dataframe thead th {\n",
       "        text-align: right;\n",
       "    }\n",
       "</style>\n",
       "<table border=\"1\" class=\"dataframe\">\n",
       "  <thead>\n",
       "    <tr style=\"text-align: right;\">\n",
       "      <th></th>\n",
       "      <th>Release_Date</th>\n",
       "      <th>Title</th>\n",
       "      <th>Popularity</th>\n",
       "      <th>Vote_Count</th>\n",
       "      <th>Vote_Average</th>\n",
       "      <th>Genre</th>\n",
       "    </tr>\n",
       "  </thead>\n",
       "  <tbody>\n",
       "    <tr>\n",
       "      <th>25546</th>\n",
       "      <td>2021</td>\n",
       "      <td>The United States vs. Billie Holiday</td>\n",
       "      <td>13.354</td>\n",
       "      <td>152</td>\n",
       "      <td>average</td>\n",
       "      <td>Music</td>\n",
       "    </tr>\n",
       "    <tr>\n",
       "      <th>25547</th>\n",
       "      <td>2021</td>\n",
       "      <td>The United States vs. Billie Holiday</td>\n",
       "      <td>13.354</td>\n",
       "      <td>152</td>\n",
       "      <td>average</td>\n",
       "      <td>Drama</td>\n",
       "    </tr>\n",
       "    <tr>\n",
       "      <th>25548</th>\n",
       "      <td>2021</td>\n",
       "      <td>The United States vs. Billie Holiday</td>\n",
       "      <td>13.354</td>\n",
       "      <td>152</td>\n",
       "      <td>average</td>\n",
       "      <td>History</td>\n",
       "    </tr>\n",
       "    <tr>\n",
       "      <th>25549</th>\n",
       "      <td>1984</td>\n",
       "      <td>Threads</td>\n",
       "      <td>13.354</td>\n",
       "      <td>186</td>\n",
       "      <td>popular</td>\n",
       "      <td>War</td>\n",
       "    </tr>\n",
       "    <tr>\n",
       "      <th>25550</th>\n",
       "      <td>1984</td>\n",
       "      <td>Threads</td>\n",
       "      <td>13.354</td>\n",
       "      <td>186</td>\n",
       "      <td>popular</td>\n",
       "      <td>Drama</td>\n",
       "    </tr>\n",
       "    <tr>\n",
       "      <th>25551</th>\n",
       "      <td>1984</td>\n",
       "      <td>Threads</td>\n",
       "      <td>13.354</td>\n",
       "      <td>186</td>\n",
       "      <td>popular</td>\n",
       "      <td>Science Fiction</td>\n",
       "    </tr>\n",
       "  </tbody>\n",
       "</table>\n",
       "</div>"
      ],
      "text/plain": [
       "       Release_Date                                 Title  Popularity  \\\n",
       "25546          2021  The United States vs. Billie Holiday      13.354   \n",
       "25547          2021  The United States vs. Billie Holiday      13.354   \n",
       "25548          2021  The United States vs. Billie Holiday      13.354   \n",
       "25549          1984                               Threads      13.354   \n",
       "25550          1984                               Threads      13.354   \n",
       "25551          1984                               Threads      13.354   \n",
       "\n",
       "       Vote_Count Vote_Average            Genre  \n",
       "25546         152      average            Music  \n",
       "25547         152      average            Drama  \n",
       "25548         152      average          History  \n",
       "25549         186      popular              War  \n",
       "25550         186      popular            Drama  \n",
       "25551         186      popular  Science Fiction  "
      ]
     },
     "execution_count": 42,
     "metadata": {},
     "output_type": "execute_result"
    }
   ],
   "source": [
    "df[df['Popularity'] == df['Popularity'].min()]"
   ]
  },
  {
   "cell_type": "markdown",
   "id": "012bd660-22f4-4ee6-9def-46b7e16ca12b",
   "metadata": {},
   "source": [
    "WHICH YEAR HAS THE MOST FILMED MOVIE"
   ]
  },
  {
   "cell_type": "code",
   "execution_count": 43,
   "id": "59abd5ee-3edb-4ab5-8538-56c5ad9163ea",
   "metadata": {},
   "outputs": [
    {
     "data": {
      "image/png": "[encoded data removed]",
      "text/plain": [
       "<Figure size 640x480 with 1 Axes>"
      ]
     },
     "metadata": {},
     "output_type": "display_data"
    }
   ],
   "source": [
    "df['Release_Date'].hist()\n",
    "plt.title('Release_Date distribution')\n",
    "plt.show()"
   ]
  },
  {
   "cell_type": "markdown",
   "id": "fde58947-01b4-4a6a-a286-bbf254bf1a36",
   "metadata": {},
   "source": [
    "CONCLUSION\n",
    "\n",
    "1. WHAT IS THE MOST FREQUENT GENRE OF MOVIE RELEASED ON NETFLIX\n",
    "\n",
    "       Drama genre is the most frequent genre (3715) of movie which is relased on NETFLIX.\n",
    "\n",
    "\n",
    "2. WHICH GENRE HAS THE HIGHEST VOTING IN THE VOTE_AVERAGE COLUMN\n",
    "\n",
    "        Drama  have the highest popularity among the audiance.\n",
    "\n",
    "\n",
    "3. WHAT MOVIE GOT THE HIGHEST POPULARITY? WHAT IS ITS GENRE\n",
    "\n",
    "       Spider-Man: No Way Home\tis the highest popular movie and it genre are: Action, Adventure, Science Fiction.\n",
    "\n",
    "\n",
    "4. WHAT MOVIE GOT THE LEAST POPULARITY? WHAT IS ITS GENRE\n",
    "\n",
    "       The United States vs. Billie Holiday and Threads have least popularity and it genre are: Music, Drama, War, History and Science Fiction.\n",
    "\n",
    "\n",
    "5. WHICH YEAR HAS THE MOST FILMED MOVIE\n",
    "\n",
    "        2020 has the highest filming rate."
   ]
  },
  {
   "cell_type": "code",
   "execution_count": null,
   "id": "9030784e-814d-4374-9912-71a35233d75d",
   "metadata": {},
   "outputs": [],
   "source": []
  }
 ],
 "metadata": {
  "kernelspec": {
   "display_name": "Python 3 (ipykernel)",
   "language": "python",
   "name": "python3"
  },
  "language_info": {
   "codemirror_mode": {
    "name": "ipython",
    "version": 3
   },
   "file_extension": ".py",
   "mimetype": "text/x-python",
   "name": "python",
   "nbconvert_exporter": "python",
   "pygments_lexer": "ipython3",
   "version": "3.11.7"
  }
 },
 "nbformat": 4,
 "nbformat_minor": 5
}
